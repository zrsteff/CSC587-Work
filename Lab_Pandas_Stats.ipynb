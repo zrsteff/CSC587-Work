{
  "cells": [
    {
      "cell_type": "markdown",
      "metadata": {
        "id": "view-in-github",
        "colab_type": "text"
      },
      "source": [
        "<a href=\"https://colab.research.google.com/github/zrsteff/CSC587-Work/blob/main/Lab_Pandas_Stats.ipynb\" target=\"_parent\"><img src=\"https://colab.research.google.com/assets/colab-badge.svg\" alt=\"Open In Colab\"/></a>"
      ]
    },
    {
      "cell_type": "markdown",
      "metadata": {
        "id": "DfSLw3BRnLJ8"
      },
      "source": [
        "# Statistical Methods in Pandas - Lab"
      ]
    },
    {
      "cell_type": "markdown",
      "metadata": {
        "id": "9X7ZvI0snLKA"
      },
      "source": [
        "## Introduction\n",
        "\n",
        "In this lab you'll get some hands-on experience using some of the key summary statistics methods in Pandas."
      ]
    },
    {
      "cell_type": "markdown",
      "metadata": {
        "id": "2bWGwOrhnLKB"
      },
      "source": [
        "## Objectives\n",
        "You will be able to:\n",
        "\n",
        "- Calculate summary statistics for a series and DataFrame\n",
        "- Use the `.apply()` or `.applymap()` methods to apply a function to a pandas series or DataFrame  \n",
        "\n",
        "\n",
        "## Getting Started\n",
        "\n",
        "For this lab, we'll be working with a dataset containing information on various lego datasets. You will find this dataset in the file `'lego_sets.csv'` which is under the DATA folder.   \n",
        "\n",
        "In the cell below:\n",
        "\n",
        "- Import Pandas and set the standard alias of `pd`\n",
        "- Import the `'lego_sets.csv'` dataset\n",
        "- Display the first five rows of the DataFrame to get a feel for what we'll be working with"
      ]
    },
    {
      "cell_type": "code",
      "execution_count": 9,
      "metadata": {
        "id": "vNrzwZNXnLKC"
      },
      "outputs": [],
      "source": [
        "# Import pandas\n",
        "\n",
        "# Import the 'lego_sets.csv' dataset\n",
        "\n",
        "# Print the first five rows of DataFrame\n"
      ]
    },
    {
      "cell_type": "markdown",
      "metadata": {
        "id": "pviijxV4nLKF"
      },
      "source": [
        "## Getting DataFrame-Level Statistics\n",
        "\n",
        "We'll begin by getting some overall summary statistics on the dataset. There are two ways we'll get this information -- `.info()` and `.describe()`.\n",
        "\n",
        "The `.info()` method provides us metadata on the DataFrame itself. This allows us to answer questions such as:\n",
        "\n",
        "* What data type does each column contain?\n",
        "* How many rows are in my dataset?\n",
        "* How many total non-missing values does each column contain?\n",
        "* How much memory does the DataFrame take up?\n",
        "\n",
        "In the cell below, call our DataFrame's `.info()` method."
      ]
    },
    {
      "cell_type": "code",
      "execution_count": 2,
      "metadata": {
        "id": "LH5UvXaRnLKF"
      },
      "outputs": [],
      "source": [
        "# Call the .info() method\n"
      ]
    },
    {
      "cell_type": "markdown",
      "metadata": {
        "id": "OwRBINF0nLKF"
      },
      "source": [
        "#### Interpreting the Results\n",
        "\n",
        "Read the output above, and then answer the following questions:\n",
        "\n",
        "- How many total rows are in this DataFrame?  \n",
        "- How many columns contain numeric data?\n",
        "- How many contain categorical data?\n",
        "- Identify at least 3 columns that contain missing values.\n",
        "\n",
        "Write your answer below this line in comment form:\n",
        "________________________________________________________________________________________________________________________________"
      ]
    },
    {
      "cell_type": "code",
      "execution_count": 2,
      "metadata": {
        "id": "fRmwsEYfnLKG"
      },
      "outputs": [],
      "source": []
    },
    {
      "cell_type": "markdown",
      "metadata": {
        "id": "XD5hrqkxnLKG"
      },
      "source": [
        "Whereas `.info()` provides statistics about the DataFrame itself, `.describe()` returns output containing basic summary statistics about the data contained with the DataFrame.  \n",
        "\n",
        "In the cell below, call the DataFrame's `.describe()` method."
      ]
    },
    {
      "cell_type": "code",
      "execution_count": 3,
      "metadata": {
        "id": "o99aitXanLKH"
      },
      "outputs": [],
      "source": [
        "# Call the .describe() method\n"
      ]
    },
    {
      "cell_type": "markdown",
      "metadata": {
        "id": "end8CWHGnLKH"
      },
      "source": [
        "#### Interpreting the Results\n",
        "\n",
        "The output contains descriptive statistics corresponding to the columns. Use these to answer the following questions:\n",
        "\n",
        "- How much is the standard deviation for `piece count`?\n",
        "- How many pieces are in the largest lego set?\n",
        "- How many in the smallest lego set? What is the median `val_star_rating`?\n",
        "\n",
        "________________________________________________________________________________________________________________________________"
      ]
    },
    {
      "cell_type": "code",
      "execution_count": 4,
      "metadata": {
        "id": "GSpXTL3wnLKI"
      },
      "outputs": [],
      "source": [
        "\n",
        "#please use this space to answer the questions\n"
      ]
    },
    {
      "cell_type": "markdown",
      "metadata": {
        "id": "KhPKOTz2nLKI"
      },
      "source": [
        "## Getting Summary Statistics\n",
        "\n",
        "Pandas also allows us to easily compute individual summary statistics using built-in methods.  Next, we'll get some practice using these methods.\n",
        "\n",
        "In the cell below, compute the median value of the `star_rating` column."
      ]
    },
    {
      "cell_type": "code",
      "execution_count": 5,
      "metadata": {
        "id": "OENi8pZBnLKJ"
      },
      "outputs": [],
      "source": [
        "# Calculate the median of the star_rating column (Hint: there is a median function)\n"
      ]
    },
    {
      "cell_type": "markdown",
      "metadata": {
        "id": "o5gVHmjInLKJ"
      },
      "source": [
        "Next, get a count of the total number of unique values in `play_star_rating`."
      ]
    },
    {
      "cell_type": "code",
      "execution_count": 6,
      "metadata": {
        "id": "M0owby7bnLKJ"
      },
      "outputs": [],
      "source": [
        "# Print the number of unique values in play_star_rating\n"
      ]
    },
    {
      "cell_type": "markdown",
      "metadata": {
        "id": "mddGRaXYnLKJ"
      },
      "source": [
        "Now, compute the standard deviation of the `list_price` column."
      ]
    },
    {
      "cell_type": "code",
      "execution_count": 7,
      "metadata": {
        "id": "pRzg7reHnLKK"
      },
      "outputs": [],
      "source": [
        "# Calculate the standard deviation of the list_price column. (Hint: you can use std function)\n"
      ]
    },
    {
      "cell_type": "markdown",
      "metadata": {
        "id": "kmIGU6PGnLKK"
      },
      "source": [
        "If we bought every single lego set in this dataset, how many pieces would we have?  \n",
        "\n",
        "> **Note**: If you truly want to answer this accurately, and are up for the challenge, remove duplicate lego-set entries before summing the pieces. That is, many of the lego sets are listed multiple times in the dataset above, depending on the country where it is being sold and other unique parameters. If you're stuck, just practice calculating the total number of pieces in the dataset for now."
      ]
    },
    {
      "cell_type": "code",
      "execution_count": 8,
      "metadata": {
        "id": "pTTjhfYgnLKK",
        "outputId": "d8e9f902-6410-401f-9935-7df0f501aa92",
        "colab": {
          "base_uri": "https://localhost:8080/",
          "height": 211
        }
      },
      "outputs": [
        {
          "output_type": "error",
          "ename": "NameError",
          "evalue": "name 'df' is not defined",
          "traceback": [
            "\u001b[0;31m---------------------------------------------------------------------------\u001b[0m",
            "\u001b[0;31mNameError\u001b[0m                                 Traceback (most recent call last)",
            "\u001b[0;32m/tmp/ipython-input-3805111652.py\u001b[0m in \u001b[0;36m<cell line: 0>\u001b[0;34m()\u001b[0m\n\u001b[1;32m      1\u001b[0m \u001b[0;31m# Total number of pieces across all unique Lego sets\u001b[0m\u001b[0;34m\u001b[0m\u001b[0;34m\u001b[0m\u001b[0m\n\u001b[0;32m----> 2\u001b[0;31m \u001b[0mdf\u001b[0m\u001b[0;34m.\u001b[0m\u001b[0mdrop_duplicates\u001b[0m\u001b[0;34m(\u001b[0m\u001b[0msubset\u001b[0m\u001b[0;34m=\u001b[0m\u001b[0;34m'prod_id'\u001b[0m\u001b[0;34m)\u001b[0m\u001b[0;34m[\u001b[0m\u001b[0;34m'piece_count'\u001b[0m\u001b[0;34m]\u001b[0m\u001b[0;34m.\u001b[0m\u001b[0msum\u001b[0m\u001b[0;34m(\u001b[0m\u001b[0;34m)\u001b[0m\u001b[0;34m\u001b[0m\u001b[0;34m\u001b[0m\u001b[0m\n\u001b[0m\u001b[1;32m      3\u001b[0m \u001b[0;34m\u001b[0m\u001b[0m\n\u001b[1;32m      4\u001b[0m \u001b[0;31m# If you're simply calculating the sum of a column\u001b[0m\u001b[0;34m\u001b[0m\u001b[0;34m\u001b[0m\u001b[0m\n\u001b[1;32m      5\u001b[0m \u001b[0;31m# df['piece_count'].sum()\u001b[0m\u001b[0;34m\u001b[0m\u001b[0;34m\u001b[0m\u001b[0m\n",
            "\u001b[0;31mNameError\u001b[0m: name 'df' is not defined"
          ]
        }
      ],
      "source": [
        "# Total number of pieces across all unique Lego sets\n",
        "df.drop_duplicates(subset='prod_id')['piece_count'].sum()\n",
        "\n",
        "# If you're simply calculating the sum of a column\n",
        "# df['piece_count'].sum()"
      ]
    },
    {
      "cell_type": "markdown",
      "metadata": {
        "id": "29Wz8-MXnLKK"
      },
      "source": [
        "Now, let's try getting the value for the 90% quantile for all numerical columns.  Do this in the cell below."
      ]
    },
    {
      "cell_type": "code",
      "execution_count": null,
      "metadata": {
        "id": "DlHQYgL8nLKK"
      },
      "outputs": [],
      "source": [
        "# Get the 90% quantile for all numerical columns. (Hint: quantile function)\n"
      ]
    },
    {
      "cell_type": "markdown",
      "metadata": {
        "id": "1ShxymqSnLKL"
      },
      "source": [
        "## Getting Summary Statistics on Categorical Data\n",
        "\n",
        "For obvious reasons, most of the methods we've used so far only work with numerical data -- there's no way to calculate the standard deviation of a column containing string values. However, there are some things that we can discover about columns containing categorical data.\n",
        "\n",
        "In the cell below, print the unique values contained within the `review_difficulty` column."
      ]
    },
    {
      "cell_type": "code",
      "execution_count": null,
      "metadata": {
        "id": "1UK-NJAgnLKL"
      },
      "outputs": [],
      "source": [
        "# Print the unique values in the review_difficulty column\n",
        "df['review_difficulty'].unique()"
      ]
    },
    {
      "cell_type": "markdown",
      "metadata": {
        "id": "YO3g_jkinLKL"
      },
      "source": [
        "Now, let's get the `value_counts()` for this column, to see how common each is."
      ]
    },
    {
      "cell_type": "code",
      "execution_count": null,
      "metadata": {
        "id": "Euum_BQfnLKM"
      },
      "outputs": [],
      "source": [
        "# Get the value_counts() of the review_difficulty column\n",
        "print(df['review_difficulty'].value_counts())\n",
        "\n",
        "# Alternatively normalized value counts\n",
        "df['review_difficulty'].value_counts(normalize=True)"
      ]
    },
    {
      "cell_type": "markdown",
      "source": [
        "\n",
        "## Using `.groupby`\n",
        "\n",
        "For each review difficulty level, find how many legos you have. Then sort these based on their counts. (Hint: Please search for groupby in Pandas, `size()`, `count()`, `reset_index()`, and `sort_values()` functions)\n",
        "\n"
      ],
      "metadata": {
        "id": "8-QevBcFwDyT"
      }
    },
    {
      "cell_type": "markdown",
      "metadata": {
        "id": "v5Z7cEZwnLKM"
      },
      "source": [
        "As you can see, these provide us quick and easy ways to get information on columns containing categorical information.  \n",
        "\n",
        "\n",
        "## Using `.applymap()`\n",
        "\n",
        "When working with pandas DataFrames, we can quickly compute functions on the data contained by using the `.applymap()` method and passing in a lambda function.\n",
        "\n",
        "For instance, we can use `applymap()` to return a version of the DataFrame where every value has been converted to a string.\n",
        "\n",
        "In the cell below:\n",
        "\n",
        "* Call the DataFrame's `.applymap()` method and pass in `lambda x: str(x)`  \n",
        "* Call the new `string_df` object's `.info()` method to confirm that everything has been cast to a string"
      ]
    },
    {
      "cell_type": "code",
      "execution_count": null,
      "metadata": {
        "id": "2Y4X0F9wnLKM"
      },
      "outputs": [],
      "source": [
        "# Call the .applymap() method\n",
        "\n",
        "# Call the .info() method\n",
        "string_df.info()"
      ]
    },
    {
      "cell_type": "markdown",
      "metadata": {
        "id": "8n_Q1eXQnLKM"
      },
      "source": [
        "Note that everything -- even the `NaN` values, have been cast to a string in the example above.\n",
        "\n",
        "Note that for Pandas Series objects (such as a single column in a DataFrame), we can do the same thing using the `.apply()` method.  \n",
        "\n",
        "This is just one example of how we can quickly compute custom functions on our DataFrame\n",
        "\n",
        "## Summary\n",
        "\n",
        "In this lab, we learned how to:\n",
        "\n",
        "* Use the `df.describe()` and `df.info()` summary statistics methods\n",
        "* Use built-in Pandas methods for calculating summary statistics\n",
        "* Apply a function to every element in a DataFrame"
      ]
    }
  ],
  "metadata": {
    "kernelspec": {
      "display_name": "Python 3",
      "language": "python",
      "name": "python3"
    },
    "language_info": {
      "codemirror_mode": {
        "name": "ipython",
        "version": 3
      },
      "file_extension": ".py",
      "mimetype": "text/x-python",
      "name": "python",
      "nbconvert_exporter": "python",
      "pygments_lexer": "ipython3",
      "version": "3.7.3"
    },
    "colab": {
      "provenance": [],
      "include_colab_link": true
    }
  },
  "nbformat": 4,
  "nbformat_minor": 0
}